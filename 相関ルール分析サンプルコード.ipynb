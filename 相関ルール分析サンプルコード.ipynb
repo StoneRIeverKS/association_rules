{
 "cells": [
  {
   "cell_type": "markdown",
   "metadata": {},
   "source": [
    "# import"
   ]
  },
  {
   "cell_type": "code",
   "execution_count": 1,
   "metadata": {
    "ExecuteTime": {
     "end_time": "2021-11-03T14:14:39.126997Z",
     "start_time": "2021-11-03T14:14:37.781214Z"
    }
   },
   "outputs": [],
   "source": [
    "#!pip install mlxtend # 初回だけ\n",
    "\n",
    "from mlxtend.frequent_patterns import apriori\n",
    "from mlxtend.frequent_patterns import association_rules\n",
    "\n",
    "import pandas as pd\n",
    "import numpy as np"
   ]
  },
  {
   "cell_type": "markdown",
   "metadata": {},
   "source": [
    "# データ読み込み~前処理"
   ]
  },
  {
   "cell_type": "code",
   "execution_count": 2,
   "metadata": {
    "ExecuteTime": {
     "end_time": "2021-11-03T14:14:39.188096Z",
     "start_time": "2021-11-03T14:14:39.129551Z"
    }
   },
   "outputs": [],
   "source": [
    "# データ読み込み\n",
    "## カラム名が読み込まれないので、いったん値として読み込み\n",
    "df = pd.read_csv(\"INcomeESL.csv\", header=0)"
   ]
  },
  {
   "cell_type": "code",
   "execution_count": 3,
   "metadata": {
    "ExecuteTime": {
     "end_time": "2021-11-03T14:14:39.438891Z",
     "start_time": "2021-11-03T14:14:39.192594Z"
    },
    "scrolled": true
   },
   "outputs": [],
   "source": [
    "# 各カラム内に入っている値をクラスに振り直す\n",
    "\n",
    "## 変換用関数\n",
    "def to_class(list_1):\n",
    "    # 結果を格納\n",
    "    list_result = []\n",
    "    \n",
    "    # ユニーク化 → 昇順に並べる\n",
    "    unique_list = sorted(set(list_1))\n",
    "    \n",
    "    # 各値に変換\n",
    "    for l_1 in list_1:\n",
    "        for ul in range(0, len(unique_list)):\n",
    "            if l_1 == unique_list[ul]:\n",
    "                list_result.append(ul)\n",
    "    \n",
    "    return(list_result, unique_list)\n",
    "                \n",
    "# 変換を実行する\n",
    "\n",
    "## 冪等にするための処理\n",
    "df_1 = df.copy()\n",
    "\n",
    "## 変換が必要なカラムのリスト\n",
    "list_change_columns = [\n",
    "    \"income\",\n",
    "    \"sex\",\n",
    "    \"marital status\",\n",
    "    \"age\",\n",
    "    \"education\",\n",
    "    \"occupation\",\n",
    "    \"years in bay area\",\n",
    "    \"dual incomes\",\n",
    "    \"householder status\",\n",
    "    \"type of home\",\n",
    "    \"ethnic classification\",\n",
    "    \"language in home\"\n",
    "]\n",
    "\n",
    "## 変換を実行\n",
    "df_element_set = pd.DataFrame()\n",
    "for c in list_change_columns:\n",
    "    df_1[c+\" class\"], element_set = to_class(df_1[c])\n",
    "    df_element_set[c] = pd.Series(element_set)\n",
    "    \n",
    "# 変換結果を出力\n",
    "df_1.to_csv(\"df_change_to_class.csv\", index=False, mode=\"w\")\n",
    "df_element_set.to_csv(\"df_element_set.csv\", index=False, mode=\"w\")\n",
    "\n",
    "# 再読み込み\n",
    "df_1 = pd.read_csv(\"df_change_to_class.csv\", header=0)\n",
    "df_element_set = pd.read_csv(\"df_element_set.csv\", header=0)"
   ]
  },
  {
   "cell_type": "code",
   "execution_count": 4,
   "metadata": {
    "ExecuteTime": {
     "end_time": "2021-11-03T14:14:39.454628Z",
     "start_time": "2021-11-03T14:14:39.443136Z"
    }
   },
   "outputs": [],
   "source": [
    "# 必要なカラムだけを抽出し、相関ルール分析に入れるデータフレームとする\n",
    "## 必要なカラム\n",
    "list_input_columns = [\n",
    "    'income class',\n",
    "    'sex class',\n",
    "    'marital status class',\n",
    "    'age class',\n",
    "    'education class',\n",
    "    'occupation class',\n",
    "    'years in bay area class',\n",
    "    'dual incomes class',\n",
    "    'householder status class',\n",
    "    'type of home class',\n",
    "    'ethnic classification class',\n",
    "    'language in home class',\n",
    "    'number of children',\n",
    "    'number in household'\n",
    "]\n",
    "\n",
    "df_2 = df_1[list_input_columns]"
   ]
  },
  {
   "cell_type": "code",
   "execution_count": 5,
   "metadata": {
    "ExecuteTime": {
     "end_time": "2021-11-03T14:14:39.517646Z",
     "start_time": "2021-11-03T14:14:39.457628Z"
    }
   },
   "outputs": [],
   "source": [
    "# ダミー変数化する\n",
    "df_input = pd.get_dummies(df_2.astype(object), dummy_na=True)"
   ]
  },
  {
   "cell_type": "markdown",
   "metadata": {},
   "source": [
    "# 相関ルール分析"
   ]
  },
  {
   "cell_type": "markdown",
   "metadata": {},
   "source": [
    "## サポートの計算"
   ]
  },
  {
   "cell_type": "code",
   "execution_count": 27,
   "metadata": {
    "ExecuteTime": {
     "end_time": "2021-11-03T14:53:28.596754Z",
     "start_time": "2021-11-03T14:53:27.441018Z"
    },
    "scrolled": false
   },
   "outputs": [
    {
     "data": {
      "text/html": [
       "<div>\n",
       "<style scoped>\n",
       "    .dataframe tbody tr th:only-of-type {\n",
       "        vertical-align: middle;\n",
       "    }\n",
       "\n",
       "    .dataframe tbody tr th {\n",
       "        vertical-align: top;\n",
       "    }\n",
       "\n",
       "    .dataframe thead th {\n",
       "        text-align: right;\n",
       "    }\n",
       "</style>\n",
       "<table border=\"1\" class=\"dataframe\">\n",
       "  <thead>\n",
       "    <tr style=\"text-align: right;\">\n",
       "      <th></th>\n",
       "      <th>support</th>\n",
       "      <th>itemsets</th>\n",
       "    </tr>\n",
       "  </thead>\n",
       "  <tbody>\n",
       "    <tr>\n",
       "      <th>49</th>\n",
       "      <td>0.912885</td>\n",
       "      <td>(language in home class_0.0)</td>\n",
       "    </tr>\n",
       "    <tr>\n",
       "      <th>48</th>\n",
       "      <td>0.669721</td>\n",
       "      <td>(ethnic classification class_7.0)</td>\n",
       "    </tr>\n",
       "    <tr>\n",
       "      <th>463</th>\n",
       "      <td>0.659540</td>\n",
       "      <td>(language in home class_0.0, ethnic classifica...</td>\n",
       "    </tr>\n",
       "    <tr>\n",
       "      <th>36</th>\n",
       "      <td>0.646597</td>\n",
       "      <td>(years in bay area class_4.0)</td>\n",
       "    </tr>\n",
       "    <tr>\n",
       "      <th>50</th>\n",
       "      <td>0.621873</td>\n",
       "      <td>(number of children_0)</td>\n",
       "    </tr>\n",
       "    <tr>\n",
       "      <th>387</th>\n",
       "      <td>0.601367</td>\n",
       "      <td>(language in home class_0.0, years in bay area...</td>\n",
       "    </tr>\n",
       "    <tr>\n",
       "      <th>38</th>\n",
       "      <td>0.598313</td>\n",
       "      <td>(dual incomes class_1.0)</td>\n",
       "    </tr>\n",
       "    <tr>\n",
       "      <th>45</th>\n",
       "      <td>0.596568</td>\n",
       "      <td>(type of home class_2.0)</td>\n",
       "    </tr>\n",
       "    <tr>\n",
       "      <th>471</th>\n",
       "      <td>0.580134</td>\n",
       "      <td>(language in home class_0.0, number of childre...</td>\n",
       "    </tr>\n",
       "    <tr>\n",
       "      <th>9</th>\n",
       "      <td>0.553956</td>\n",
       "      <td>(sex class_0.0)</td>\n",
       "    </tr>\n",
       "  </tbody>\n",
       "</table>\n",
       "</div>"
      ],
      "text/plain": [
       "      support                                           itemsets\n",
       "49   0.912885                       (language in home class_0.0)\n",
       "48   0.669721                  (ethnic classification class_7.0)\n",
       "463  0.659540  (language in home class_0.0, ethnic classifica...\n",
       "36   0.646597                      (years in bay area class_4.0)\n",
       "50   0.621873                             (number of children_0)\n",
       "387  0.601367  (language in home class_0.0, years in bay area...\n",
       "38   0.598313                           (dual incomes class_1.0)\n",
       "45   0.596568                           (type of home class_2.0)\n",
       "471  0.580134  (language in home class_0.0, number of childre...\n",
       "9    0.553956                                    (sex class_0.0)"
      ]
     },
     "metadata": {},
     "output_type": "display_data"
    },
    {
     "name": "stdout",
     "output_type": "stream",
     "text": [
      "3932\n"
     ]
    }
   ],
   "source": [
    "# アプリオリによる分析\n",
    "## 引数 = 分析対象のデータ, 出力したいサポートの閾値, 表示の仕方(カラム名を使うか否か)\n",
    "support_threshold = 0.06\n",
    "freq_items1 = apriori(df_input, min_support = support_threshold, use_colnames = True)\n",
    "\n",
    "# 結果確認\n",
    "display(freq_items1.sort_values('support', ascending = False).head(10))\n",
    "\n",
    "# itemset数確認\n",
    "print(freq_items1.shape[0])"
   ]
  },
  {
   "cell_type": "markdown",
   "metadata": {},
   "source": [
    "## リフトの計算"
   ]
  },
  {
   "cell_type": "code",
   "execution_count": 28,
   "metadata": {
    "ExecuteTime": {
     "end_time": "2021-11-03T15:03:54.190462Z",
     "start_time": "2021-11-03T15:03:52.798133Z"
    }
   },
   "outputs": [
    {
     "data": {
      "text/html": [
       "<div>\n",
       "<style scoped>\n",
       "    .dataframe tbody tr th:only-of-type {\n",
       "        vertical-align: middle;\n",
       "    }\n",
       "\n",
       "    .dataframe tbody tr th {\n",
       "        vertical-align: top;\n",
       "    }\n",
       "\n",
       "    .dataframe thead th {\n",
       "        text-align: right;\n",
       "    }\n",
       "</style>\n",
       "<table border=\"1\" class=\"dataframe\">\n",
       "  <thead>\n",
       "    <tr style=\"text-align: right;\">\n",
       "      <th></th>\n",
       "      <th>antecedents</th>\n",
       "      <th>consequents</th>\n",
       "      <th>antecedent support</th>\n",
       "      <th>consequent support</th>\n",
       "      <th>support</th>\n",
       "      <th>confidence</th>\n",
       "      <th>lift</th>\n",
       "      <th>leverage</th>\n",
       "      <th>conviction</th>\n",
       "    </tr>\n",
       "  </thead>\n",
       "  <tbody>\n",
       "    <tr>\n",
       "      <th>0</th>\n",
       "      <td>(age class_0.0, dual incomes class_1.0)</td>\n",
       "      <td>(income class_1.0, education class_3.0, marita...</td>\n",
       "      <td>0.091768</td>\n",
       "      <td>0.068499</td>\n",
       "      <td>0.060064</td>\n",
       "      <td>0.654517</td>\n",
       "      <td>9.555109</td>\n",
       "      <td>0.053778</td>\n",
       "      <td>2.696225</td>\n",
       "    </tr>\n",
       "    <tr>\n",
       "      <th>1</th>\n",
       "      <td>(income class_1.0, education class_3.0, marita...</td>\n",
       "      <td>(age class_0.0, dual incomes class_1.0)</td>\n",
       "      <td>0.068499</td>\n",
       "      <td>0.091768</td>\n",
       "      <td>0.060064</td>\n",
       "      <td>0.876858</td>\n",
       "      <td>9.555109</td>\n",
       "      <td>0.053778</td>\n",
       "      <td>7.375466</td>\n",
       "    </tr>\n",
       "    <tr>\n",
       "      <th>2</th>\n",
       "      <td>(income class_1.0, education class_3.0, dual i...</td>\n",
       "      <td>(age class_0.0, marital status class_3.0)</td>\n",
       "      <td>0.070681</td>\n",
       "      <td>0.090460</td>\n",
       "      <td>0.060064</td>\n",
       "      <td>0.849794</td>\n",
       "      <td>9.394188</td>\n",
       "      <td>0.053670</td>\n",
       "      <td>6.055297</td>\n",
       "    </tr>\n",
       "    <tr>\n",
       "      <th>3</th>\n",
       "      <td>(age class_0.0, marital status class_3.0)</td>\n",
       "      <td>(income class_1.0, education class_3.0, dual i...</td>\n",
       "      <td>0.090460</td>\n",
       "      <td>0.070681</td>\n",
       "      <td>0.060064</td>\n",
       "      <td>0.663987</td>\n",
       "      <td>9.394188</td>\n",
       "      <td>0.053670</td>\n",
       "      <td>2.765726</td>\n",
       "    </tr>\n",
       "    <tr>\n",
       "      <th>4</th>\n",
       "      <td>(age class_0.0)</td>\n",
       "      <td>(income class_1.0, education class_3.0, marita...</td>\n",
       "      <td>0.094095</td>\n",
       "      <td>0.068499</td>\n",
       "      <td>0.060064</td>\n",
       "      <td>0.638331</td>\n",
       "      <td>9.318816</td>\n",
       "      <td>0.053619</td>\n",
       "      <td>2.575560</td>\n",
       "    </tr>\n",
       "    <tr>\n",
       "      <th>5</th>\n",
       "      <td>(age class_0.0)</td>\n",
       "      <td>(income class_1.0, education class_3.0, marita...</td>\n",
       "      <td>0.094095</td>\n",
       "      <td>0.068499</td>\n",
       "      <td>0.060064</td>\n",
       "      <td>0.638331</td>\n",
       "      <td>9.318816</td>\n",
       "      <td>0.053619</td>\n",
       "      <td>2.575560</td>\n",
       "    </tr>\n",
       "    <tr>\n",
       "      <th>6</th>\n",
       "      <td>(income class_1.0, education class_3.0, marita...</td>\n",
       "      <td>(age class_0.0)</td>\n",
       "      <td>0.068499</td>\n",
       "      <td>0.094095</td>\n",
       "      <td>0.060064</td>\n",
       "      <td>0.876858</td>\n",
       "      <td>9.318816</td>\n",
       "      <td>0.053619</td>\n",
       "      <td>7.356570</td>\n",
       "    </tr>\n",
       "    <tr>\n",
       "      <th>7</th>\n",
       "      <td>(income class_1.0, education class_3.0, marita...</td>\n",
       "      <td>(age class_0.0)</td>\n",
       "      <td>0.068499</td>\n",
       "      <td>0.094095</td>\n",
       "      <td>0.060064</td>\n",
       "      <td>0.876858</td>\n",
       "      <td>9.318816</td>\n",
       "      <td>0.053619</td>\n",
       "      <td>7.356570</td>\n",
       "    </tr>\n",
       "    <tr>\n",
       "      <th>8</th>\n",
       "      <td>(age class_0.0)</td>\n",
       "      <td>(income class_1.0, education class_3.0, dual i...</td>\n",
       "      <td>0.094095</td>\n",
       "      <td>0.070681</td>\n",
       "      <td>0.060500</td>\n",
       "      <td>0.642968</td>\n",
       "      <td>9.096800</td>\n",
       "      <td>0.053850</td>\n",
       "      <td>2.602899</td>\n",
       "    </tr>\n",
       "    <tr>\n",
       "      <th>9</th>\n",
       "      <td>(income class_1.0, education class_3.0, dual i...</td>\n",
       "      <td>(age class_0.0)</td>\n",
       "      <td>0.070681</td>\n",
       "      <td>0.094095</td>\n",
       "      <td>0.060500</td>\n",
       "      <td>0.855967</td>\n",
       "      <td>9.096800</td>\n",
       "      <td>0.053850</td>\n",
       "      <td>6.289566</td>\n",
       "    </tr>\n",
       "  </tbody>\n",
       "</table>\n",
       "</div>"
      ],
      "text/plain": [
       "                                         antecedents  \\\n",
       "0            (age class_0.0, dual incomes class_1.0)   \n",
       "1  (income class_1.0, education class_3.0, marita...   \n",
       "2  (income class_1.0, education class_3.0, dual i...   \n",
       "3          (age class_0.0, marital status class_3.0)   \n",
       "4                                    (age class_0.0)   \n",
       "5                                    (age class_0.0)   \n",
       "6  (income class_1.0, education class_3.0, marita...   \n",
       "7  (income class_1.0, education class_3.0, marita...   \n",
       "8                                    (age class_0.0)   \n",
       "9  (income class_1.0, education class_3.0, dual i...   \n",
       "\n",
       "                                         consequents  antecedent support  \\\n",
       "0  (income class_1.0, education class_3.0, marita...            0.091768   \n",
       "1            (age class_0.0, dual incomes class_1.0)            0.068499   \n",
       "2          (age class_0.0, marital status class_3.0)            0.070681   \n",
       "3  (income class_1.0, education class_3.0, dual i...            0.090460   \n",
       "4  (income class_1.0, education class_3.0, marita...            0.094095   \n",
       "5  (income class_1.0, education class_3.0, marita...            0.094095   \n",
       "6                                    (age class_0.0)            0.068499   \n",
       "7                                    (age class_0.0)            0.068499   \n",
       "8  (income class_1.0, education class_3.0, dual i...            0.094095   \n",
       "9                                    (age class_0.0)            0.070681   \n",
       "\n",
       "   consequent support   support  confidence      lift  leverage  conviction  \n",
       "0            0.068499  0.060064    0.654517  9.555109  0.053778    2.696225  \n",
       "1            0.091768  0.060064    0.876858  9.555109  0.053778    7.375466  \n",
       "2            0.090460  0.060064    0.849794  9.394188  0.053670    6.055297  \n",
       "3            0.070681  0.060064    0.663987  9.394188  0.053670    2.765726  \n",
       "4            0.068499  0.060064    0.638331  9.318816  0.053619    2.575560  \n",
       "5            0.068499  0.060064    0.638331  9.318816  0.053619    2.575560  \n",
       "6            0.094095  0.060064    0.876858  9.318816  0.053619    7.356570  \n",
       "7            0.094095  0.060064    0.876858  9.318816  0.053619    7.356570  \n",
       "8            0.070681  0.060500    0.642968  9.096800  0.053850    2.602899  \n",
       "9            0.094095  0.060500    0.855967  9.096800  0.053850    6.289566  "
      ]
     },
     "metadata": {},
     "output_type": "display_data"
    },
    {
     "name": "stdout",
     "output_type": "stream",
     "text": [
      "58466\n"
     ]
    }
   ],
   "source": [
    "# アソシエーションルールの抽出\n",
    "## 引数 = サポートが入ったデータ, 指標, 閾値\n",
    "## 指標(metric)は、support, confidence, lift, levarage, convictionが選択できる\n",
    "lift_threshold = 1\n",
    "a_rules1 = association_rules(freq_items1, metric = \"lift\", min_threshold = lift_threshold)\n",
    "\n",
    "# リフト値でソート\n",
    "a_rules1 = a_rules1.sort_values('lift',ascending = False).reset_index(drop=True)\n",
    "\n",
    "# 結果確認\n",
    "display(a_rules1.head(10))\n",
    "\n",
    "# ルール数確認\n",
    "print(a_rules1.shape[0])\n",
    "\n",
    "# リフト値の計算まで行ったものを出力\n",
    "a_rules1.to_csv(\"df_support={su_th}_lift={li_th}.csv\".format(su_th=support_threshold, li_th=lift_threshold), index=False, mode=\"w\")"
   ]
  },
  {
   "cell_type": "code",
   "execution_count": null,
   "metadata": {},
   "outputs": [],
   "source": []
  },
  {
   "cell_type": "code",
   "execution_count": null,
   "metadata": {},
   "outputs": [],
   "source": []
  },
  {
   "cell_type": "code",
   "execution_count": null,
   "metadata": {},
   "outputs": [],
   "source": []
  },
  {
   "cell_type": "code",
   "execution_count": null,
   "metadata": {},
   "outputs": [],
   "source": []
  },
  {
   "cell_type": "code",
   "execution_count": null,
   "metadata": {},
   "outputs": [],
   "source": []
  },
  {
   "cell_type": "code",
   "execution_count": null,
   "metadata": {},
   "outputs": [],
   "source": []
  },
  {
   "cell_type": "code",
   "execution_count": null,
   "metadata": {},
   "outputs": [],
   "source": []
  },
  {
   "cell_type": "code",
   "execution_count": null,
   "metadata": {},
   "outputs": [],
   "source": []
  }
 ],
 "metadata": {
  "kernelspec": {
   "display_name": "Python 3",
   "language": "python",
   "name": "python3"
  },
  "language_info": {
   "codemirror_mode": {
    "name": "ipython",
    "version": 3
   },
   "file_extension": ".py",
   "mimetype": "text/x-python",
   "name": "python",
   "nbconvert_exporter": "python",
   "pygments_lexer": "ipython3",
   "version": "3.8.5"
  },
  "toc": {
   "base_numbering": 1,
   "nav_menu": {},
   "number_sections": true,
   "sideBar": true,
   "skip_h1_title": false,
   "title_cell": "Table of Contents",
   "title_sidebar": "Contents",
   "toc_cell": false,
   "toc_position": {},
   "toc_section_display": true,
   "toc_window_display": false
  }
 },
 "nbformat": 4,
 "nbformat_minor": 4
}
